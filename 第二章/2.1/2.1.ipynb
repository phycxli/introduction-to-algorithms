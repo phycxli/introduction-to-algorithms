{
 "cells": [
  {
   "cell_type": "code",
   "execution_count": 2,
   "metadata": {},
   "outputs": [
    {
     "name": "stdout",
     "output_type": "stream",
     "text": [
      "8\n"
     ]
    }
   ],
   "source": [
    "#2.1-3\n",
    "a=[4,6,3,2,5,8,9,0,1,7]\n",
    "def find(a,v):\n",
    "    for i in range(len(a)):\n",
    "        if a[i]==v:\n",
    "            return i\n",
    "    return None\n",
    "index=find(a,1)\n",
    "print(index)"
   ]
  },
  {
   "cell_type": "code",
   "execution_count": 9,
   "metadata": {},
   "outputs": [
    {
     "name": "stdout",
     "output_type": "stream",
     "text": [
      "[0, 1, 0, 0, 0, 1]\n"
     ]
    }
   ],
   "source": [
    "#2.1-4\n",
    "#input:a=a[n],b=b[n],a,b分别存储二进制数\n",
    "#output:c=c[n+1],c=a+b\n",
    "def add_array(a:list,b:list):\n",
    "    c=[]\n",
    "    carry=0\n",
    "    for i in range(len(a)):\n",
    "        c.append((a[i]+b[i]+carry)%2)\n",
    "        carry=(a[i]+b[i]+carry)//2\n",
    "    c.append(carry)\n",
    "    return c\n",
    "a=[1,0,1,0,1]\n",
    "b=[1,0,1,1,0]\n",
    "print(add_array(a,b))"
   ]
  },
  {
   "cell_type": "code",
   "execution_count": 6,
   "metadata": {},
   "outputs": [
    {
     "data": {
      "text/plain": [
       "1"
      ]
     },
     "execution_count": 6,
     "metadata": {},
     "output_type": "execute_result"
    }
   ],
   "source": [
    "1%2"
   ]
  }
 ],
 "metadata": {
  "kernelspec": {
   "display_name": "Python 3.10.8 64-bit",
   "language": "python",
   "name": "python3"
  },
  "language_info": {
   "codemirror_mode": {
    "name": "ipython",
    "version": 3
   },
   "file_extension": ".py",
   "mimetype": "text/x-python",
   "name": "python",
   "nbconvert_exporter": "python",
   "pygments_lexer": "ipython3",
   "version": "3.10.8"
  },
  "orig_nbformat": 4,
  "vscode": {
   "interpreter": {
    "hash": "26de051ba29f2982a8de78e945f0abaf191376122a1563185a90213a26c5da77"
   }
  }
 },
 "nbformat": 4,
 "nbformat_minor": 2
}
