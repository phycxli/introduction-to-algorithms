{
 "cells": [
  {
   "cell_type": "code",
   "execution_count": 8,
   "metadata": {},
   "outputs": [
    {
     "name": "stdout",
     "output_type": "stream",
     "text": [
      "[8, 9, 7, 6, 5, 4, 3, 2, 1, 0]\n",
      "[8, 9, 7, 5, 6, 4, 3, 2, 1, 0]\n",
      "[8, 9, 5, 6, 7, 4, 3, 2, 1, 0]\n",
      "[5, 6, 7, 8, 9, 4, 3, 2, 1, 0]\n",
      "[5, 6, 7, 8, 9, 3, 4, 2, 1, 0]\n",
      "[5, 6, 7, 8, 9, 3, 4, 2, 0, 1]\n",
      "[5, 6, 7, 8, 9, 3, 4, 0, 1, 2]\n",
      "[5, 6, 7, 8, 9, 0, 1, 2, 3, 4]\n",
      "[0, 1, 2, 3, 4, 5, 6, 7, 8, 9]\n",
      "[0, 1, 2, 3, 4, 5, 6, 7, 8, 9]\n"
     ]
    }
   ],
   "source": [
    "def merge(a,p,q,r):\n",
    "    n1=q-p+1\n",
    "    n2=r-q\n",
    "    L=[0]*(n1)\n",
    "    R=[0]*(n2)\n",
    "    for i in range(0,n1):\n",
    "        L[i]=a[p+i]\n",
    "    for j in range(0,n2):\n",
    "        R[j]=a[q+1+j]\n",
    "    i=0\n",
    "    j=0\n",
    "    k=p\n",
    "    while i<n1 and j<n2:\n",
    "        if L[i]<=R[j]:\n",
    "            a[k]=L[i]\n",
    "            i+=1\n",
    "        else:\n",
    "            a[k]=R[j]\n",
    "            j+=1\n",
    "        k+=1\n",
    "    while i<n1:\n",
    "        a[k]=L[i]\n",
    "        i+=1\n",
    "        k+=1\n",
    "    while j<n2:\n",
    "        a[k]=R[j]\n",
    "        j+=1\n",
    "        k+=1\n",
    "def mergeSort(a,p,r):\n",
    "    if p<r:\n",
    "        q=int((p+(r-1))/2)\n",
    "        mergeSort(a,p,q)\n",
    "        mergeSort(a,q+1,r)\n",
    "        merge(a,p,q,r)\n",
    "        print(a)\n",
    "\n",
    "\n",
    "a=[9,8,7,6,5,4,3,2,1,0]\n",
    "n=len(a)\n",
    "mergeSort(a,0,n-1)\n",
    "print(a)"
   ]
  },
  {
   "cell_type": "code",
   "execution_count": 10,
   "metadata": {},
   "outputs": [
    {
     "name": "stdout",
     "output_type": "stream",
     "text": [
      "[0, 1, 2, 3, 4, 5, 6, 7, 8, 9]\n"
     ]
    }
   ],
   "source": [
    "def insertion_sort(self):\n",
    "    #取出列表长度\n",
    "    num = len(arr)\n",
    "    \n",
    "    for i in range(1, num):\n",
    "        left = 0\n",
    "        right = i-1\n",
    "        temp = arr[i]\n",
    "        #left一旦大于right，跳出循环\n",
    "        while left <= right:\n",
    "            #取lift与right的中间位置（取整）\n",
    "            mid = (left + right)//2\n",
    "            \n",
    "            #利用二分查找的特性，对中间位置的值与待插入数字比较\n",
    "            #mid右边\n",
    "            if arr[mid] < temp:\n",
    "                left = mid+1\n",
    "            #mid左边\n",
    "            else:\n",
    "                right = mid-1\n",
    "\t\t#查找出temp应插入的位置后，将left后面的数字均向后移动一位\n",
    "        j = i-1\n",
    "        while j >= left:\n",
    "            arr[j+1] = arr[j]\n",
    "            j -= 1\n",
    "        #此时left位置上放置待插入的数字\n",
    "        arr[left] = temp\n",
    "    print(a)\n",
    "\n",
    "arr = [7, 9, 14, 51, 2, 8, 32]\n",
    "insertion_sort(arr)\n"
   ]
  }
 ],
 "metadata": {
  "kernelspec": {
   "display_name": "Python 3",
   "language": "python",
   "name": "python3"
  },
  "language_info": {
   "codemirror_mode": {
    "name": "ipython",
    "version": 3
   },
   "file_extension": ".py",
   "mimetype": "text/x-python",
   "name": "python",
   "nbconvert_exporter": "python",
   "pygments_lexer": "ipython3",
   "version": "3.10.8"
  },
  "orig_nbformat": 4,
  "vscode": {
   "interpreter": {
    "hash": "26de051ba29f2982a8de78e945f0abaf191376122a1563185a90213a26c5da77"
   }
  }
 },
 "nbformat": 4,
 "nbformat_minor": 2
}
