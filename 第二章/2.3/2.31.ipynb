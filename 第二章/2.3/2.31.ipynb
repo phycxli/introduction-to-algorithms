{
 "cells": [
  {
   "cell_type": "code",
   "execution_count": 5,
   "metadata": {},
   "outputs": [
    {
     "name": "stdout",
     "output_type": "stream",
     "text": [
      "[8, 9, 7, 6, 5, 4, 3, 2, 1, 0]\n",
      "[8, 9, 7, 5, 6, 4, 3, 2, 1, 0]\n",
      "[8, 9, 5, 6, 7, 4, 3, 2, 1, 0]\n",
      "[5, 6, 7, 8, 9, 4, 3, 2, 1, 0]\n",
      "[5, 6, 7, 8, 9, 3, 4, 2, 1, 0]\n",
      "[5, 6, 7, 8, 9, 3, 4, 2, 0, 1]\n",
      "[5, 6, 7, 8, 9, 3, 4, 0, 1, 2]\n",
      "[5, 6, 7, 8, 9, 0, 1, 2, 3, 4]\n",
      "[0, 1, 2, 3, 4, 5, 6, 7, 8, 9]\n",
      "[0, 1, 2, 3, 4, 5, 6, 7, 8, 9]\n"
     ]
    }
   ],
   "source": [
    "#有哨兵卡\n",
    "def merge(a,p,q,r):\n",
    "    n1=q-p+1\n",
    "    n2=r-q\n",
    "    LEFT=[0]*(n1)\n",
    "    RIGHT=[0]*(n2)\n",
    "    for i in range(0,n1):\n",
    "        LEFT[i]=a[p+i]\n",
    "    for j in range(0,n2):\n",
    "        RIGHT[j]=a[q+j+1]\n",
    "    i=0\n",
    "    j=0\n",
    "    k=p\n",
    "    while i<n1 and j<n2:\n",
    "        if LEFT[i]<=RIGHT[j]:\n",
    "            a[k]=LEFT[i]\n",
    "            i+=1\n",
    "        else:\n",
    "            a[k]=RIGHT[j]\n",
    "            j+=1\n",
    "        k=k+1\n",
    "    while i<n1:\n",
    "        a[k]=LEFT[i]\n",
    "        i+=1\n",
    "        k+=1\n",
    "    while j<n2:\n",
    "        a[k]=RIGHT[j]\n",
    "        j+=1\n",
    "        k+=1\n",
    "def merge_sort(a,p,r):\n",
    "    if p<r:\n",
    "        q=int((p+(r-1))/2)\n",
    "        merge_sort(a,p,q)\n",
    "        merge_sort(a,q+1,r)\n",
    "        merge(a,p,q,r)\n",
    "        print(a)\n",
    "\n",
    "\n",
    "a=[9,8,7,6,5,4,3,2,1,0]\n",
    "n=len(a)\n",
    "merge_sort(a,0,n-1)\n",
    "print(a)"
   ]
  },
  {
   "cell_type": "code",
   "execution_count": 6,
   "metadata": {},
   "outputs": [
    {
     "name": "stdout",
     "output_type": "stream",
     "text": [
      "[0, 1, 2, 3, 4, 5, 6, 7, 8, 9]\n"
     ]
    }
   ],
   "source": [
    "#有哨兵卡\n",
    "def merge(a,p,q,r):\n",
    "    n1=q-p+1\n",
    "    n2=r-q\n",
    "    left=[]\n",
    "    right=[]\n",
    "    for i in range(n1):\n",
    "        left.append(a[p+i])\n",
    "    for j in range(n2):\n",
    "        right.append(a[q+j+1])\n",
    "    left.append(float('inf'))\n",
    "    right.append(float('inf'))\n",
    "    #print(left,right)\n",
    "    i,j=0,0\n",
    "    for k in range(p,r+1):\n",
    "        if left[i]<=right[j]:\n",
    "            a[k]=left[i]\n",
    "            i=i+1\n",
    "        else:\n",
    "            a[k]=right[j]\n",
    "            j=j+1\n",
    "        #print(a)\n",
    "def merge_sort(a,p,r):\n",
    "    if p<r:\n",
    "        q=int((p+r)/2)\n",
    "        merge_sort(a,p,q)\n",
    "        merge_sort(a,q+1,r)\n",
    "        merge(a,p,q,r)\n",
    "a=[9,8,7,6,5,4,3,2,1,0]\n",
    "merge_sort(a,0,len(a)-1)\n",
    "print(a)"
   ]
  },
  {
   "cell_type": "code",
   "execution_count": 7,
   "metadata": {},
   "outputs": [
    {
     "name": "stdout",
     "output_type": "stream",
     "text": [
      "[3, 9, 26, 38, 41, 49, 52, 57]\n"
     ]
    }
   ],
   "source": [
    "#没有哨兵卡\n",
    "def merge(a,p,q,r):\n",
    "    n1=q-p+1\n",
    "    n2=r-q\n",
    "    left,right=[],[]\n",
    "    for i in range(n1):\n",
    "        left.append(a[p+i])\n",
    "    for j in range(n2):\n",
    "        right.append(a[q+j+1])\n",
    "    i,j,k=0,0,p\n",
    "    while i<n1 and j<n2:\n",
    "        if left[i]<=right[j]:\n",
    "            a[k]=left[i]\n",
    "            i+=1\n",
    "        else:\n",
    "            a[k]=right[j]\n",
    "            j+=1\n",
    "        k+=1\n",
    "    while i<n1:\n",
    "        a[k]=left[i]\n",
    "        i+=1\n",
    "        k+=1\n",
    "    while j<n2:\n",
    "        a[k]=right[j]\n",
    "        j+=1\n",
    "        k+=1\n",
    "def merge_sort(a,p,r):\n",
    "    if p<r:\n",
    "        q=int((p+r)/2)\n",
    "        merge_sort(a,p,q)\n",
    "        merge_sort(a,q+1,r)\n",
    "        merge(a,p,q,r)\n",
    "        #print(a)\n",
    "a=[3,41,52,26,38,57,9,49]\n",
    "merge_sort(a,0,len(a)-1)\n",
    "print(a)"
   ]
  },
  {
   "cell_type": "code",
   "execution_count": 8,
   "metadata": {},
   "outputs": [
    {
     "name": "stdout",
     "output_type": "stream",
     "text": [
      "[3, 9, 26, 38, 41, 49, 52, 57]\n"
     ]
    }
   ],
   "source": [
    "#没有哨兵卡\n",
    "def merge(a,p,q,r):\n",
    "    n1=q-p+1\n",
    "    n2=r-q\n",
    "    left,right=[],[]\n",
    "    for i in range(n1):\n",
    "        left.append(a[p+i])\n",
    "    for j in range(n2):\n",
    "        right.append(a[q+j+1])\n",
    "    i,j=0,0\n",
    "    for k in range(p,r+1):\n",
    "        if i==n1:\n",
    "            a[k]=right[j]\n",
    "            j+=1\n",
    "        elif j==n2:\n",
    "            a[k]=left[i]\n",
    "            i+=1\n",
    "        elif left[i]<=right[j]:\n",
    "            a[k]=left[i]\n",
    "            i+=1\n",
    "        else:\n",
    "            a[k]=right[j]\n",
    "            j+=1\n",
    "def merge_sort(a,p,r):\n",
    "    if p<r:\n",
    "        q=int((p+r)/2)\n",
    "        merge_sort(a,p,q)\n",
    "        merge_sort(a,q+1,r)\n",
    "        merge(a,p,q,r)\n",
    "        #print(a)\n",
    "a=[3,41,52,26,38,57,9,49]\n",
    "merge_sort(a,0,len(a)-1)\n",
    "print(a)"
   ]
  },
  {
   "cell_type": "code",
   "execution_count": 9,
   "metadata": {},
   "outputs": [
    {
     "name": "stdout",
     "output_type": "stream",
     "text": [
      "6\n"
     ]
    }
   ],
   "source": [
    "#二分查找，迭代实现\n",
    "def binary(a,v):\n",
    "    left=0\n",
    "    right=len(a)-1\n",
    "    while left<=right:\n",
    "        mid=int((left+right)/2)\n",
    "        if a[mid]>v:\n",
    "            right=mid-1\n",
    "        elif a[mid]<v:\n",
    "            left=mid+1\n",
    "        else:\n",
    "            return mid\n",
    "    return None\n",
    "\n",
    "a=[0,1,2,3,4,5,6,7,8,9]\n",
    "print(binary(a,6))"
   ]
  },
  {
   "cell_type": "code",
   "execution_count": 10,
   "metadata": {},
   "outputs": [
    {
     "name": "stdout",
     "output_type": "stream",
     "text": [
      "[3, 41, 52, 26, 38, 57, 9, 49]\n",
      "[3, 41, 52, 26, 38, 57, 9, 49]\n",
      "[3, 26, 41, 52, 38, 57, 9, 49]\n",
      "[3, 26, 38, 41, 52, 57, 9, 49]\n",
      "[3, 26, 38, 41, 52, 57, 9, 49]\n",
      "[3, 9, 26, 38, 41, 52, 57, 49]\n",
      "[3, 9, 26, 38, 41, 49, 52, 57]\n",
      "[3, 9, 26, 38, 41, 49, 52, 57]\n"
     ]
    }
   ],
   "source": [
    "#插排+二分查找\n",
    "def binary_insert_sort(a):\n",
    "    for j in range(1,len(a)):\n",
    "        left=0\n",
    "        right=j-1\n",
    "        key=a[j]\n",
    "        while left<=right:\n",
    "            mid=int((left+right)/2)\n",
    "            if a[mid]>=key:\n",
    "                right=mid-1\n",
    "            else:\n",
    "                left=mid+1\n",
    "        i=j-1\n",
    "        while i>=left:\n",
    "            a[i+1]=a[i]\n",
    "            i=i-1\n",
    "        a[i+1]=key \n",
    "        print(a)\n",
    "\n",
    "\n",
    "a=[3,41,52,26,38,57,9,49]\n",
    "binary_insert_sort(a)\n",
    "print(a)"
   ]
  },
  {
   "cell_type": "code",
   "execution_count": 17,
   "metadata": {},
   "outputs": [
    {
     "name": "stdout",
     "output_type": "stream",
     "text": [
      "False\n"
     ]
    }
   ],
   "source": [
    "#这一题得到思路主要是\n",
    "#1、先归并排序好\n",
    "#2、遍历集合中每一个元素a[i]，对于每一个元素都用二分查找x-a[i]\n",
    "#二分查找复杂度log(n)，遍历全集合复杂度n，总共复杂度nlogn\n",
    "def add_x(a,x):\n",
    "    merge_sort(a,0,len(a)-1)\n",
    "    for i in range(len(a)):\n",
    "        if binary(a,x-a[i])!=None:\n",
    "            return True\n",
    "    return False\n",
    "\n",
    "a=[9,8,7,6,5,4,3,2,1]\n",
    "print(add_x(a,19))"
   ]
  },
  {
   "cell_type": "code",
   "execution_count": null,
   "metadata": {},
   "outputs": [],
   "source": []
  }
 ],
 "metadata": {
  "kernelspec": {
   "display_name": "Python 3",
   "language": "python",
   "name": "python3"
  },
  "language_info": {
   "codemirror_mode": {
    "name": "ipython",
    "version": 3
   },
   "file_extension": ".py",
   "mimetype": "text/x-python",
   "name": "python",
   "nbconvert_exporter": "python",
   "pygments_lexer": "ipython3",
   "version": "3.10.8 (tags/v3.10.8:aaaf517, Oct 11 2022, 16:50:30) [MSC v.1933 64 bit (AMD64)]"
  },
  "orig_nbformat": 4,
  "vscode": {
   "interpreter": {
    "hash": "26de051ba29f2982a8de78e945f0abaf191376122a1563185a90213a26c5da77"
   }
  }
 },
 "nbformat": 4,
 "nbformat_minor": 2
}
